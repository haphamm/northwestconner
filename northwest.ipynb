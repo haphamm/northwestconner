{
  "nbformat": 4,
  "nbformat_minor": 0,
  "metadata": {
    "colab": {
      "name": "Untitled4.ipynb",
      "provenance": []
    },
    "kernelspec": {
      "name": "python3",
      "display_name": "Python 3"
    },
    "language_info": {
      "name": "python"
    }
  },
  "cells": [
    {
      "cell_type": "code",
      "execution_count": null,
      "metadata": {
        "id": "2gpcHRbgY2T5"
      },
      "outputs": [],
      "source": [
        "import numpy as np"
      ]
    },
    {
      "cell_type": "code",
      "source": [
        "def north_west_corner(supply, demand):\n",
        "    supply_copy = supply.copy()\n",
        "    demand_copy = demand.copy()\n",
        "    i = 0\n",
        "    j = 0\n",
        "    bfs = []\n",
        "    while len(bfs) < len(supply) + len(demand) - 1:\n",
        "        s = supply_copy[i]\n",
        "        d = demand_copy[j]\n",
        "        v = min(s, d)\n",
        "        supply_copy[i] -= v\n",
        "        demand_copy[j] -= v\n",
        "        bfs.append(((i, j), v))\n",
        "        if supply_copy[i] == 0 and i < len(supply) - 1:\n",
        "            i += 1\n",
        "        elif demand_copy[j] == 0 and j < len(demand) - 1:\n",
        "            j += 1\n",
        "    return bfs"
      ],
      "metadata": {
        "id": "J1imlvs2bk4_"
      },
      "execution_count": null,
      "outputs": []
    },
    {
      "cell_type": "code",
      "source": [
        "supply=np.array([25,30,35])\n",
        "demand=np.array([15,20,25,30])\n",
        "bfs = north_west_corner(supply, demand)\n",
        "print(\"Phuong an cuc bien xuat phat:\\n {}\".format(bfs))"
      ],
      "metadata": {
        "colab": {
          "base_uri": "https://localhost:8080/"
        },
        "id": "isYqrxlrbnd3",
        "outputId": "aabc5b2d-2cf6-49c2-b61d-dc940c0c202d"
      },
      "execution_count": null,
      "outputs": [
        {
          "output_type": "stream",
          "name": "stdout",
          "text": [
            "Phuong an cuc bien xuat phat:\n",
            " [((0, 0), 15), ((0, 1), 10), ((1, 1), 10), ((1, 2), 20), ((2, 2), 5), ((2, 3), 30)]\n"
          ]
        }
      ]
    }
  ]
}